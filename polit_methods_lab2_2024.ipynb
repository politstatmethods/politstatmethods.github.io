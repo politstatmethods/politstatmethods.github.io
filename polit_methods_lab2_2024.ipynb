{
  "cells": [
    {
      "cell_type": "markdown",
      "metadata": {
        "id": "Jzh3OHPIZxa9"
      },
      "source": [
        "# <font color='black'>Методы анализа неоднородных данных и паттерн-анализ </font>\n",
        "# <font color='black'>Практическое занятие 2 </font>\n",
        "\n",
        "\n",
        "## <font color='black'>Модели с переменными взаимодействия </font>\n",
        "На этом занятии для отработки моделей с переменными взаимодействия мы продолжим работать с данными из статьи [Kalenborn C., Lessman C., 2013](https://yadi.sk/i/nlEQUoWKiqY0UA). Одна из частей анализа в данной статье выполнена на основе cross-section data (использованы усредненные данные за 2005 - 2010 гг.). Авторы изучают взаимосвязь уровня коррупции и демократии, предполагая, что ее характер зависит от значений показателя свободы прессы. Кратко о данных:\n",
        "* cpi - уровень коррупции: Corruption Perception Index. Непрерывная шкала от 0 до 10, где 10 означает наиболее высокий уровень коррупции.\n",
        "* dem - индекс демократии: Vanhanen’s democratization index. Непрерывная шкала от 0 до 100, где 100 означает максимальное значение уровня демократии.\n",
        "* fp - свобода прессы: Freedom House. Приведен к непрерывной шкале от 0 до 100, где 100 - наиболее высокое значение свободы прессы.\n",
        "* loggdppc - натуральный логарифм ВВП на душу населения. World Bank.\n",
        "* stab - уровень политической стабильности. Индекс построен на основе показателей \"Political Stability\" и \"Absence of Violence/Terrorism\" из the Worldwide Governance Indicators. Непрерывная шкала от -2.5 до 2.5, где 2.5 соответствует наиболее высокому уровню политической стабильности.\n",
        "* britcol - дамми-переменная, где 1 - бывшая британская колония."
      ]
    },
    {
      "cell_type": "code",
      "execution_count": null,
      "metadata": {
        "id": "vlt5pEfkZxbB"
      },
      "outputs": [],
      "source": [
        "import pandas as pd\n",
        "import statsmodels.formula.api as smf\n",
        "import seaborn as sns\n",
        "import numpy as np\n",
        "import matplotlib.pyplot as mpl\n",
        "%matplotlib inline"
      ]
    },
    {
      "cell_type": "markdown",
      "metadata": {
        "id": "_p5vjuPdZxbF"
      },
      "source": [
        "Откроем массив данных для репликации результатов исследования - lab1.dta."
      ]
    },
    {
      "cell_type": "code",
      "execution_count": null,
      "metadata": {
        "id": "ZU_dW4geZxbH"
      },
      "outputs": [],
      "source": [
        "lab2 = pd.read_stata('lab1.dta')\n",
        "lab2 = lab2.dropna()"
      ]
    },
    {
      "cell_type": "markdown",
      "metadata": {
        "id": "uaaea7f9ZxbI"
      },
      "source": [
        "Познакомимся с тем, как устроен массив данных."
      ]
    },
    {
      "cell_type": "code",
      "execution_count": null,
      "metadata": {
        "id": "62cam0lZZxbK"
      },
      "outputs": [],
      "source": [
        "lab2.head(10)"
      ]
    },
    {
      "cell_type": "markdown",
      "metadata": {
        "id": "zgsyNqY1ZxbL"
      },
      "source": [
        "Описательные статистики переменных особенно важны перед оцениванием моделей с переменными взаимодействия. Возможно, нам понадобится некоторые алгебраические преобразования для более удобной интерпретации предельных эффектов."
      ]
    },
    {
      "cell_type": "code",
      "execution_count": null,
      "metadata": {
        "id": "xKmW6e9oZxbM"
      },
      "outputs": [],
      "source": [
        "lab2.describe()"
      ]
    },
    {
      "cell_type": "markdown",
      "metadata": {
        "id": "5RxS2DTWZxbN"
      },
      "source": [
        "Оценим первую наиболее простую регрессионную модель без переменных взаимодействия. Проинтерпретируйте все оценки коэффициентов модели m1."
      ]
    },
    {
      "cell_type": "code",
      "execution_count": null,
      "metadata": {
        "id": "YKCqndryZxbO"
      },
      "outputs": [],
      "source": [
        "m1 = smf.ols(formula = \"cpi ~ dem + fp + loggdppc + britcol + stab\", data = lab2).fit()\n",
        "print(m1.summary())"
      ]
    },
    {
      "cell_type": "markdown",
      "metadata": {
        "id": "zjCQRdMPZxbQ"
      },
      "source": [
        "Рассмотрим, как различается уровень коррупции в группах стран с разным уровнем свободы прессы. Предварительно разделим страны на 2 группы: \"not free\" и \"free\". В качестве порогового значения для разделения возьмем 70 баллов по показателю \"свобода прессы\"."
      ]
    },
    {
      "cell_type": "code",
      "execution_count": null,
      "metadata": {
        "id": "YO2GRJw2ZxbQ"
      },
      "outputs": [],
      "source": [
        "def fp_new(series):\n",
        "    if series <= 70: return 0\n",
        "    elif series > 70: return 1\n",
        "\n",
        "lab2['groups'] = lab2['fp'].apply(fp_new)\n"
      ]
    },
    {
      "cell_type": "markdown",
      "metadata": {
        "id": "mwXjODjYZxbQ"
      },
      "source": [
        "Модель 2 включает вместо непрерывной переменной уровня свободы прессы бинарный показатель \"groups\" в качестве предиктора. Проинтерпретируйте оценки коэффициентов модели m2."
      ]
    },
    {
      "cell_type": "code",
      "execution_count": null,
      "metadata": {
        "id": "SC7qMtxiZxbT"
      },
      "outputs": [],
      "source": [
        "m2 = smf.ols(formula = \"cpi ~ dem + groups + loggdppc + britcol + stab\", data = lab2).fit()\n",
        "print(m2.summary())"
      ]
    },
    {
      "cell_type": "markdown",
      "metadata": {
        "id": "VJLMFzElZxbU"
      },
      "source": [
        "Тем не менее, данная модель не позволяет ответить на ключевой вопрос, которые ставили перед собой Kalenborn C., Lessman C. А именно, их интересовало, различается ли взаимосвязь коррупции и уровня демократии в странах с разными значениями свободы прессы? Для того, чтобы продвинуться в ответе на данный вопрос, представим следующий график. Какой предварительный вывод Вы можете сделать на основе данного графика?  "
      ]
    },
    {
      "cell_type": "code",
      "execution_count": null,
      "metadata": {
        "id": "RHt5Lyt2ZxbV"
      },
      "outputs": [],
      "source": [
        "sns.lmplot(x ='dem', y = 'cpi', hue = 'groups', data = lab2, ci = 95)"
      ]
    },
    {
      "cell_type": "markdown",
      "metadata": {
        "id": "oXzkro5JZxbW"
      },
      "source": [
        "Изменим спецификацию регрессионной модели так, чтобы она позволяла ответить на вопрос, как различается взаимосвязь коррупции и уровня демократии в двух группах стран (условно назовем их \"свободные\" и \"несвободные\"). Для этого нужно ввести переменную взаимодействия между предиктором \"dem\" и \"groups\".\n",
        "Проинтерпретируйте оценки коэффициентов в модели m3."
      ]
    },
    {
      "cell_type": "code",
      "execution_count": null,
      "metadata": {
        "id": "thPbTHsTZxbX"
      },
      "outputs": [],
      "source": [
        "m3 = smf.ols(formula = \"cpi ~ dem*groups + loggdppc + britcol + stab\", data = lab2).fit()\n",
        "print(m3.summary())"
      ]
    },
    {
      "cell_type": "markdown",
      "metadata": {
        "id": "1gZCE58xZxbY"
      },
      "source": [
        "Проиллюстрируем на графике различия между предельными эффектами демократии в зависимости от групп стран. Для этого нам предварительно понадобится\n",
        "* задать формулу для расчета предельных эффектов. Для этого мы\n",
        "\n",
        "1) извлечем оценки коэффициентов модели m3 (marg_effect)\n",
        "\n",
        "2) получим вектор уникальных значений переменной \"groups\" (values), которая является условием (то есть, от ее значений зависит предельный эффект демократии)\n",
        "\n",
        "* задать формулу для расчета стандартных ошибок"
      ]
    },
    {
      "cell_type": "code",
      "execution_count": null,
      "metadata": {
        "id": "HDDvlORrZxbZ"
      },
      "outputs": [],
      "source": [
        "print(m3.params)\n",
        "print(m3.cov_params())"
      ]
    },
    {
      "cell_type": "code",
      "execution_count": null,
      "metadata": {
        "id": "Q2l6OUOSZxbZ"
      },
      "outputs": [],
      "source": [
        "values = lab2.groups.unique()\n",
        "marg_effect = m3.params[1] + m3.params[3]*values\n",
        "Cov_m3 = np.asmatrix(m3.cov_params())\n",
        "se = (Cov_m3[1,1] + values**2*(Cov_m3[3,3]) + 2*values*Cov_m3[1,3])**(.5)\n",
        "from scipy.stats import norm\n",
        "fig, axes = mpl.subplots()\n",
        "mpl.errorbar(values, marg_effect, yerr=norm.ppf(0.975)*se, fmt='bD', capsize = 10)\n",
        "axes.set(xticks = [0,1])\n",
        "axes.set_ylabel('Effect of democracy on corruption')\n",
        "mpl.show()\n"
      ]
    },
    {
      "cell_type": "markdown",
      "metadata": {
        "id": "7dRxfy6yZxba"
      },
      "source": [
        "Теперь попробуем оценить модель, но уже с переменной взаимодействия между исходными непрерывными переменными \"dem\" и \"fp\", без деления стран на группы \"not free\" и \"free\". Какой вывод можно сделать на основе оценок данной модели?\n",
        "Предложите возможные преобразования для более удобной интерпретации и примените их при оценивании модели (в качестве дополнительной практики после занятия)."
      ]
    },
    {
      "cell_type": "code",
      "execution_count": null,
      "metadata": {
        "id": "qPU7HUOxZxbb"
      },
      "outputs": [],
      "source": [
        "m4 = smf.ols(formula = \"cpi ~ dem*fp + loggdppc + britcol + stab\", data = lab2).fit()\n",
        "print(m4.summary())"
      ]
    },
    {
      "cell_type": "markdown",
      "metadata": {
        "id": "Yj82xI5IZxbb"
      },
      "source": [
        "Покажем на графике, как изменяется предельный эффект демократии и его значимость в зависимости от \"условия\" (freedom of press). Проинтерпретируйте график."
      ]
    },
    {
      "cell_type": "code",
      "execution_count": null,
      "metadata": {
        "id": "-3IonlmYZxbd"
      },
      "outputs": [],
      "source": [
        "cov_m4 = np.asmatrix(m4.cov_params())\n",
        "fp_values = np.linspace(lab2.fp.min(), lab2.fp.max())\n",
        "marg_effect_m4 = m4.params[1] + m4.params[3]*fp_values\n",
        "se2 = (cov_m4[1,1] + fp_values**2*(cov_m4[3,3]) + 2*fp_values*cov_m4[1,3])**(.5)\n",
        "fig, axes = mpl.subplots()\n",
        "mpl.plot(fp_values, marg_effect_m4, 'b')\n",
        "mpl.plot(fp_values, marg_effect_m4 - norm.ppf(0.975)*se2, 'b--')\n",
        "mpl.plot(fp_values, marg_effect_m4 + norm.ppf(0.975)*se2, 'b--')\n",
        "axes.set_xlabel('Freedom of press')\n",
        "axes.set_ylabel('Marginal effect of democracy on corruption')\n",
        "mpl.axhline(y=0, color ='r', linestyle = '--')\n",
        "mpl.title('Dependence of the marginal effect on freedom of press')\n",
        "mpl.show()"
      ]
    },
    {
      "cell_type": "markdown",
      "metadata": {
        "id": "lw9Mnvb2Zxbd"
      },
      "source": [
        "Резюмируйте результаты проведенного анализа."
      ]
    }
  ],
  "metadata": {
    "colab": {
      "provenance": []
    },
    "kernelspec": {
      "display_name": "Python 3 (ipykernel)",
      "language": "python",
      "name": "python3"
    },
    "language_info": {
      "codemirror_mode": {
        "name": "ipython",
        "version": 3
      },
      "file_extension": ".py",
      "mimetype": "text/x-python",
      "name": "python",
      "nbconvert_exporter": "python",
      "pygments_lexer": "ipython3",
      "version": "3.9.12"
    }
  },
  "nbformat": 4,
  "nbformat_minor": 0
}