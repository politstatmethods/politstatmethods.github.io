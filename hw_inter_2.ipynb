{
  "cells": [
    {
      "cell_type": "markdown",
      "metadata": {
        "id": "zynZW4UqmhiN"
      },
      "source": [
        "# Методы анализа неоднородных данных и паттерн-анализ\n",
        "## Домашнее задание №1 (сдаваемое). Переменные взаимодействия. Уровень 2\n",
        "## Deadline: 23.59 5 марта\n",
        "\n",
        "Задание выполняется на базе данных hw_inter_2.dta. Краткое описание данных:\n",
        "\n",
        "* countrynum - id для страны (данные по странам Африки)\n",
        "* year - год\n",
        "* healthexp - расходы на здравоохранение в % от ВВП (World Development Indicators, the World Bank)\n",
        "* opp - индекс оппозиции, построенный на основе показателей \"Freedom of Assembly and Association\" (CIRI database), legislative, executive electoral competitiveness (Database of Political Institutions, the World Bank). Непрерывная переменная от 0 до 100, где 100 соответствует более высокому уровню оппозиции.\n",
        "* ji - Linzer and Staton’s measure of latent judicial independence, большие значения соответствуют более высокой степени независимости.\n",
        "* fh - свобода прессы (Freedom of the Press, Freedom House). Шкала перевернута для удобства, так что большему значению соответствует большее значение свободы прессы.\n",
        "* pop_rural - % сельского населения\n",
        "* pop_u15 - % населения младше 15 лет\n",
        "* pop_over65 - % населения старше 65 лет\n",
        "* mort_u5 - коэффициент смертности детей до 5 лет\n",
        "* ln_gdp_pc - логарифм ВВП на душу населения\n",
        "\n",
        "**Задача - оценить совместный эффект индикаторов оппозиции (opp), судебной независимости (ji), свободы прессы (fh) на один из показателей социальных расходов государства, а именно расходы на здравоохранение (healthexp), в странах Африки**.\n",
        "Остальные переменные используйте в качестве контрольных переменных."
      ]
    },
    {
      "cell_type": "markdown",
      "metadata": {
        "id": "00mBbxohmhiR"
      },
      "source": [
        "## Задание 1\n",
        "Выполните предварительный анализ данных (описательные статистики, выполните преобразование переменных, если это понадобится для удобства интерпретации)."
      ]
    },
    {
      "cell_type": "code",
      "execution_count": null,
      "metadata": {
        "id": "UGrdHbjFmhiS"
      },
      "outputs": [],
      "source": []
    },
    {
      "cell_type": "markdown",
      "metadata": {
        "id": "mWy_m65fmhiS"
      },
      "source": [
        "## Задание 2\n",
        "Оцените предварительную регрессионную модель, без включения эффектов взаимодействия между переменными. Учтите как в этом случае, так и в последующих заданиях, панельную структуру данных, опишите выбранный Вами метод. Проинтерпретируйте оценки коэффициентов при ключевых предикторах. Дайте краткую характеристику эффекта контрольных переменных.   "
      ]
    },
    {
      "cell_type": "code",
      "execution_count": null,
      "metadata": {
        "id": "wUt3Le_lmhiT"
      },
      "outputs": [],
      "source": []
    },
    {
      "cell_type": "markdown",
      "metadata": {
        "id": "qdio4nOXmhiT"
      },
      "source": [
        "## Задание 3\n",
        "Оцените совместные эффекты ключевых предикторов попарно. Используйте такое преобразование переменных, чтобы интерпретация предельных эффектов имела смысл. Что можно сказать о совместном эффекте\n",
        "* opposition and judicial independence\n",
        "* judicial independence and freedom of press\n",
        "* freedom of press and opposition\n",
        "\n",
        "на показатель расходов на здравоохранение?\n",
        "\n",
        "Проинтерпретируйте предельные эффекты и представьте необходимую визуализацию."
      ]
    },
    {
      "cell_type": "code",
      "execution_count": null,
      "metadata": {
        "id": "nGBtZ6g3mhiT"
      },
      "outputs": [],
      "source": []
    },
    {
      "cell_type": "markdown",
      "metadata": {
        "id": "5IiRD9CVmhiT"
      },
      "source": [
        "## Задание 4\n",
        "Включите в модель переменную взаимодействия между тремя ключевыми переменными сразу. Проинтерпретируйте совместный эффект трех переменных с помощью предельных эффектов. Предложите удобный способ визуализации совместного эффекта трех переменных.\n",
        "Резюмируйте Ваш анализ: сделайте выводы."
      ]
    },
    {
      "cell_type": "code",
      "execution_count": null,
      "metadata": {
        "id": "8a0wtbdxmhiT"
      },
      "outputs": [],
      "source": []
    }
  ],
  "metadata": {
    "kernelspec": {
      "display_name": "Python 3 (ipykernel)",
      "language": "python",
      "name": "python3"
    },
    "language_info": {
      "codemirror_mode": {
        "name": "ipython",
        "version": 3
      },
      "file_extension": ".py",
      "mimetype": "text/x-python",
      "name": "python",
      "nbconvert_exporter": "python",
      "pygments_lexer": "ipython3",
      "version": "3.9.12"
    },
    "colab": {
      "provenance": []
    }
  },
  "nbformat": 4,
  "nbformat_minor": 0
}