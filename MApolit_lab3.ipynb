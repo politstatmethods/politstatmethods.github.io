{
  "cells": [
    {
      "cell_type": "markdown",
      "metadata": {
        "id": "vwEZtp6S6Xu1"
      },
      "source": [
        "# <font color='black'> Методы анализа неоднородных данных и паттерн-анализ. Практическое занятие 3 </font>\n",
        "## <font color='black'> Анализ панельных данных. Модели с фиксированными эффектами (FE-models) и модели со случайными эффектами (Часть 1) </font>\n",
        "Типичные панельные данные имеют как пространственное, так и временное измерение. К примеру, наблюдения для одной страны представлены за несколько лет. При такой структуре данных наивно было бы полагать, что условие о независимости наблюдений соблюдается. Наблюдения \"внутри\" одной пространственной единицы, разумеется, связаны. В этом случае мы не можем применять классическую линейную регрессию. В качестве альтернативы выступают широко применяемые модели с фиксированными эффектами.\n",
        "\n",
        "Кратко о данных, с которыми мы сегодня будем работать.\n",
        "\n",
        "*Источник: Массив данных основан на идее исследования Ehrlich I., Lui F. (1999) Bureaucratic Corruption and Endogenous Economic Growth. The Journal of Political Economy, 107 (6), pp. 270 – 293.*\n",
        "\n",
        "* country -  Страна\n",
        "* countrygroup - Страны в датасете разделены на три группы. Первая группа (countrygroup = 1) включает Австралию, Канаду, Японию, Новую Зеландию и США. Вторая группа (countrygroup = 2) включает страны Восточной Европы (Болгария, Хорватия, Чешская Республика, Эстония, Венгрия, Латвия, Польша, Словения, Словакия). В третью группу в основном входят страны Западной Европы\n",
        "* year - Год. Данные охватывают временной промежуток с 2006 по 2015 год\n",
        "* pol_stab - Политическая стабильность и отсутствие насилия/терроризма. Отражает склонность к политической нестабильности и/или политически мотивированному насилию, включая терроризм. Значения показателя варьируются от −2.5 до 2.5, причем более высокие значения означают более высокий уровень политической стабильности. Источником данных являются Индикаторы качества государственного управления (WGI). В рамках анализа будем использовать этот показатель в качестве зависимой переменной\n",
        "* con_cor - Показатель контроля коррупции. Отражает восприятие степени использования государственной власти для личной выгоды, включая как мелкие, так и крупные формы коррупции. Показатель изменяется от −2.5 до 2.5, причем более высокие зна-чения соответствуют более низкому уровню коррупции (т.е. более высокому контролю). Источником данных является WGI. В рамках анализа будем использовать эту переменную в качестве ключевого предиктора\n",
        "* herfgov_DPI - Индекс концентрации Херфиндаля. В контексте данного исследования он используется для измерения уровня конкуренции между политическими партиями. Шкала варьируется от 0 до 1, где 1 означает отсутствие конкуренции. В рамках анализа будем использовать как контрольную переменную\n",
        "* govt_consump_WDI - Государственные расходы на конечное потребление (в процентах от ВВП). В рамках анализа будем использовать как контрольную переменную\n",
        "\n",
        "\n",
        "Подгрузим необходимые библиотеки и откроем массив \"MApolit_lab3.dta\"."
      ]
    },
    {
      "cell_type": "code",
      "execution_count": null,
      "metadata": {
        "scrolled": false,
        "id": "zczdPsp_6Xu6"
      },
      "outputs": [],
      "source": [
        "import pandas as pd\n",
        "import statsmodels.formula.api as statf\n",
        "import numpy as np\n",
        "import numpy.linalg as la\n",
        "!pip install linearmodels\n",
        "from linearmodels import PanelOLS\n",
        "from linearmodels import RandomEffects\n",
        "from scipy import stats"
      ]
    },
    {
      "cell_type": "code",
      "execution_count": null,
      "metadata": {
        "id": "9XUjFHRB6Xu8"
      },
      "outputs": [],
      "source": [
        "lab3 = pd.read_stata(\"MApolit_lab3.dta\")\n",
        "lab3 = lab3.dropna()\n",
        "lab3.head(20)"
      ]
    },
    {
      "cell_type": "markdown",
      "metadata": {
        "id": "bya3TFOT6Xu8"
      },
      "source": [
        "Выведем описательные статистики для ключевых переменных, но по подгруппам стран."
      ]
    },
    {
      "cell_type": "code",
      "execution_count": null,
      "metadata": {
        "id": "495JFbxH6Xu8"
      },
      "outputs": [],
      "source": [
        "lab3.groupby('countrygroup')['pol_stab'].describe()"
      ]
    },
    {
      "cell_type": "code",
      "execution_count": null,
      "metadata": {
        "id": "s_JmRYA-6Xu9"
      },
      "outputs": [],
      "source": [
        "lab3.groupby('countrygroup')['con_cor'].describe()"
      ]
    },
    {
      "cell_type": "markdown",
      "metadata": {
        "id": "x9QoCnkE6Xu9"
      },
      "source": [
        "В нашей первой модели мы учтем разные \"стартовые\" условия. Для этого добавим дамми-переменные на страну. Кроме того, пока включим только один предиктор - показатель контроля коррупции. Проинтерпретируйте оценки model1. Почему в данном случае мы получаем большой R-squared? Можно ли на него полагаться?"
      ]
    },
    {
      "cell_type": "code",
      "execution_count": null,
      "metadata": {
        "id": "sy-bwnne6Xu9"
      },
      "outputs": [],
      "source": [
        "model1 = statf.ols(formula = 'pol_stab ~ con_cor + C(country)', data = lab3).fit()\n",
        "print(model1.summary())"
      ]
    },
    {
      "cell_type": "markdown",
      "metadata": {
        "id": "GrciOE_h6Xu9"
      },
      "source": [
        "Как Вы уже могли заметить выше, Python по умолчанию в качестве базовой категории (относительно которой происходит сравнение) выбирает первую пространственную единицу. При этом не всегда удобно интерпретировать относительно первой категории. Ниже рассмотрим, как можно изменить базовую категорию.\n",
        "\n",
        "* Что в выдаче изменилось? Изменилась ли оценка коэффициента при контроле коррупции?\n",
        "* Проинтерпретируйте оценки model1_2"
      ]
    },
    {
      "cell_type": "code",
      "execution_count": null,
      "metadata": {
        "id": "IpAQkvQj6Xu-"
      },
      "outputs": [],
      "source": [
        "model1_2 = statf.ols(formula = 'pol_stab ~ con_cor + C(country, Treatment(\"Denmark\"))', data = lab3).fit()\n",
        "print(model1_2.summary())"
      ]
    },
    {
      "cell_type": "markdown",
      "metadata": {
        "id": "2uAKmG_I6Xu-"
      },
      "source": [
        "На следующем шаге оценим модель с внутригрупповым преобразованием. Вспомните, в чем ее отличие от LSDV-модели (модели с дамми-переменными), почему часто используется именно такая спецификация с внутригрупповым преобразованием. Обратите внимание на то, что для того, чтобы в Python оценить FE-модели и RE-модели, нужно предварительно указать, какая переменная показывает пространственное измерение, а какая - временное.\n",
        "* Проинтерпретируйте оценки model2\n",
        "* Проинтерпретируйте значения F-test for Poolability"
      ]
    },
    {
      "cell_type": "code",
      "execution_count": null,
      "metadata": {
        "id": "_j4CVal46Xu-"
      },
      "outputs": [],
      "source": [
        "lab3_index = lab3.set_index(['country', 'year'])\n",
        "model2 = PanelOLS.from_formula('pol_stab ~ con_cor + EntityEffects', data = lab3_index).fit()\n",
        "print(model2)"
      ]
    },
    {
      "cell_type": "markdown",
      "metadata": {
        "id": "oiZ_mLUV6Xu-"
      },
      "source": [
        "Получим теперь ту же самую оценку коэффициента при показателе контроля коррупции, однако посредством деления массива на подвыборки. Страны и будут составлять наши подвыборки. На первом шаге посчитаем разброс значений контроля коррупции по подгруппам."
      ]
    },
    {
      "cell_type": "code",
      "execution_count": null,
      "metadata": {
        "id": "AtOqSzN76Xu-"
      },
      "outputs": [],
      "source": [
        "n = lab3.groupby('country', sort = False).size()\n",
        "varbygroups = lab3.groupby('country', sort = False).var().con_cor*(n-1)\n",
        "\n",
        "varbygroups.sort_values(ascending = False)"
      ]
    },
    {
      "cell_type": "markdown",
      "metadata": {
        "id": "HEsKuwz-6Xu_"
      },
      "source": [
        "На втором шаге оценим парную линейную регрессию политической стабильности на уровень коррупции на подвыборках разных стран и сохраним оценки коэффициентов при предикторе."
      ]
    },
    {
      "cell_type": "code",
      "execution_count": null,
      "metadata": {
        "id": "ZOZpotzC6Xu_"
      },
      "outputs": [],
      "source": [
        "coefconcor = []\n",
        "\n",
        "for i in lab3.country.unique():\n",
        "  subsample = lab3[lab3.country == i]\n",
        "  coefconcor.append(statf.ols(formula = 'pol_stab ~ con_cor', data = subsample).fit().params[1])"
      ]
    },
    {
      "cell_type": "markdown",
      "metadata": {
        "id": "XPinCPnP6Xu_"
      },
      "source": [
        "Третий шаг - посчитаем сумму взвешенных оценок коэффициентов. Вес для i-ой страны - отношение внутригруппового разброса значений показателей контроля коррупции i-ой страны к сумму соответствующих внутригрупповых разбросов по всем странам.\n",
        "\n",
        "И вуаля! Получили ту же оценку коэффициента посредством процедуры взвешивания. Чем нам с практической точки зрения полезны эти результаты?"
      ]
    },
    {
      "cell_type": "code",
      "execution_count": null,
      "metadata": {
        "id": "QHgVXcYw6Xu_"
      },
      "outputs": [],
      "source": [
        "weightedsum = sum(coefconcor*varbygroups/sum(varbygroups))\n",
        "weightedsum"
      ]
    },
    {
      "cell_type": "markdown",
      "metadata": {
        "id": "nI-PvUBU6Xu_"
      },
      "source": [
        "Давайте теперь расширим модель, добавив контрольные переменные."
      ]
    },
    {
      "cell_type": "code",
      "execution_count": null,
      "metadata": {
        "id": "UkYzbbnH6Xu_"
      },
      "outputs": [],
      "source": [
        "model3 = statf.ols(formula = 'pol_stab ~ con_cor + govt_consump_WDI + herfgov_DPI + C(country)', data = lab3).fit()\n",
        "print(model3.summary())"
      ]
    },
    {
      "cell_type": "markdown",
      "source": [
        "Давайте адаптируем алгоритм взвешивания к случаю множественной регрессионной модели. В целом алгоритм остается тем же, но теперь нам предварительно нужно очистить вариацию зависимой переменной и интересующего нас предиктора от контрольных переменных. Для того, чтобы это сделать, нам сначала нужно оценить регрессию зависимой переменной на все контроли и сохранить остатки (то есть, информация, несвязанная с контролями). И таким же образом очищаем вариацию предиктора.\n",
        "\n",
        "Как и в модели 2, сфокусируемся на оценке коэффициента при предикторе con_cor."
      ],
      "metadata": {
        "id": "yqGAQC6_E_uq"
      }
    },
    {
      "cell_type": "code",
      "source": [
        "lab3['y_resid'] = statf.ols(formula = 'pol_stab ~ govt_consump_WDI + herfgov_DPI + C(country)', data = lab3).fit().resid\n",
        "lab3['x_resid'] = statf.ols(formula = 'con_cor ~ govt_consump_WDI + herfgov_DPI + C(country)', data = lab3).fit().resid\n",
        "\n",
        "lab3.head()"
      ],
      "metadata": {
        "id": "ql9jRLMrGK8B"
      },
      "execution_count": null,
      "outputs": []
    },
    {
      "cell_type": "markdown",
      "source": [
        "Теперь упорядочим значения вариации для x_resid, для того, чтобы понять, какие страны оказались наиболее \"весомыми\" для получения оценки коэффициента при con_cor, а какие - наоборот, наименее значимыми."
      ],
      "metadata": {
        "id": "KZWkoR-qLCNW"
      }
    },
    {
      "cell_type": "code",
      "source": [
        "cleanvarbygroups = lab3.groupby('country', sort = False).var().x_resid*(n-1)\n",
        "\n",
        "cleanvarbygroups.sort_values(ascending = False)"
      ],
      "metadata": {
        "id": "IGWrP1lXK-Uc"
      },
      "execution_count": null,
      "outputs": []
    },
    {
      "cell_type": "markdown",
      "source": [
        "Посчитаем теперь взвешенную сумму оценок коэффициентов, полученных в результате оценивания моделей y_resid на x_resid по подгруппам. Убедимся, что в итоге это та же оценка коэффициента при con_cor, что мы получали и ранее в FE-модели."
      ],
      "metadata": {
        "id": "gBqu0x-QLuiO"
      }
    },
    {
      "cell_type": "code",
      "source": [
        "coefconcor_multiplereg = []\n",
        "\n",
        "for i in lab3.country.unique():\n",
        "  subsample = lab3[lab3.country == i]\n",
        "  coefconcor_multiplereg.append(statf.ols(formula = 'y_resid ~ x_resid', data = subsample).fit().params[1])"
      ],
      "metadata": {
        "id": "8E_q1_aEMZW_"
      },
      "execution_count": null,
      "outputs": []
    },
    {
      "cell_type": "code",
      "source": [
        "weightedsum1 = sum(coefconcor_multiplereg*cleanvarbygroups/sum(cleanvarbygroups))\n",
        "weightedsum1"
      ],
      "metadata": {
        "id": "-KSY9hsDNg57"
      },
      "execution_count": null,
      "outputs": []
    },
    {
      "cell_type": "markdown",
      "metadata": {
        "id": "mRdfo9an6XvA"
      },
      "source": [
        "Теперь оценим ту же модель - model 3, но с внутригрупповым преобразованием. EntityEffects означает, что мы используем внутригрупповое преобразование по пространственным единицам, то есть, центрируем как зависимую переменную, так и предикторы по странам."
      ]
    },
    {
      "cell_type": "code",
      "execution_count": null,
      "metadata": {
        "id": "QHUdn-yH6XvA",
        "collapsed": true
      },
      "outputs": [],
      "source": [
        "model3_1 = PanelOLS.from_formula('pol_stab ~ con_cor + govt_consump_WDI + herfgov_DPI + EntityEffects', data = lab3_index).fit()\n",
        "print(model3_1)"
      ]
    }
  ],
  "metadata": {
    "kernelspec": {
      "display_name": "Python 3 (ipykernel)",
      "language": "python",
      "name": "python3"
    },
    "language_info": {
      "codemirror_mode": {
        "name": "ipython",
        "version": 3
      },
      "file_extension": ".py",
      "mimetype": "text/x-python",
      "name": "python",
      "nbconvert_exporter": "python",
      "pygments_lexer": "ipython3",
      "version": "3.9.12"
    },
    "colab": {
      "provenance": []
    }
  },
  "nbformat": 4,
  "nbformat_minor": 0
}