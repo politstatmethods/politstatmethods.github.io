{
  "nbformat": 4,
  "nbformat_minor": 0,
  "metadata": {
    "colab": {
      "provenance": []
    },
    "kernelspec": {
      "name": "python3",
      "display_name": "Python 3"
    },
    "language_info": {
      "name": "python"
    }
  },
  "cells": [
    {
      "cell_type": "markdown",
      "source": [
        "# <font color='black'> Методы анализа неоднородных данных и паттерн-анализ. Практическое занятие 4 </font>\n",
        "## <font color='black'> Анализ панельных данных. Модели с фиксированными эффектами (FE-models) и модели со случайными эффектами (Часть 2) </font>\n",
        "\n",
        "На этом занятии мы продолжим работать с панельными данными, источником которых является исследование Ehrlich I., Lui F. (1999) Bureaucratic Corruption and Endogenous Economic Growth. The Journal of Political Economy, 107 (6), pp. 270 – 293.\n",
        "\n",
        "Краткое описание данных:\n",
        "* country -  Страна\n",
        "* countrygroup - Страны в датасете разделены на три группы. Первая группа (countrygroup = 1) включает Австралию, Канаду, Японию, Новую Зеландию и США. Вторая группа (countrygroup = 2) включает страны Восточной Европы (Болгария, Хорватия, Чешская Республика, Эстония, Венгрия, Латвия, Польша, Словения, Словакия). В третью группу в основном входят страны Западной Европы\n",
        "* year - Год. Данные охватывают временной промежуток с 2006 по 2015 год\n",
        "* pol_stab - Политическая стабильность и отсутствие насилия/терроризма. Отражает склонность к политической нестабильности и/или политически мотивированному насилию, включая терроризм. Значения показателя варьируются от −2.5 до 2.5, причем более высокие значения означают более высокий уровень политической стабильности. Источником данных являются Индикаторы качества государственного управления (WGI). В рамках анализа будем использовать этот показатель в качестве зависимой переменной\n",
        "* con_cor - Показатель контроля коррупции. Отражает восприятие степени использования государственной власти для личной выгоды, включая как мелкие, так и крупные формы коррупции. Показатель изменяется от −2.5 до 2.5, причем более высокие зна-чения соответствуют более низкому уровню коррупции (т.е. более высокому контролю). Источником данных является WGI. В рамках анализа будем использовать эту переменную в качестве ключевого предиктора\n",
        "* herfgov_DPI - Индекс концентрации Херфиндаля. В контексте данного исследования он используется для измерения уровня конкуренции между политическими партиями. Шкала варьируется от 0 до 1, где 1 означает отсутствие конкуренции. В рамках анализа будем использовать как контрольную переменную\n",
        "* govt_consump_WDI - Государственные расходы на конечное потребление (в процентах от ВВП). В рамках анализа будем использовать как контрольную переменную\n",
        "\n",
        "\n",
        "Подгрузим необходимые библиотеки и откроем массив \"MApolit_lab3.dta\"."
      ],
      "metadata": {
        "id": "Cm6Cztns3GKN"
      }
    },
    {
      "cell_type": "code",
      "source": [
        "import pandas as pd\n",
        "import statsmodels.formula.api as statf\n",
        "import numpy as np\n",
        "import numpy.linalg as la\n",
        "!pip install linearmodels\n",
        "from linearmodels import PanelOLS\n",
        "from linearmodels import RandomEffects\n",
        "from scipy import stats"
      ],
      "metadata": {
        "id": "sux3xvpu3x4Q"
      },
      "execution_count": null,
      "outputs": []
    },
    {
      "cell_type": "code",
      "source": [
        "lab3 = pd.read_stata(\"MApolit_lab3.dta\")\n",
        "lab3 = lab3.dropna()\n",
        "lab3.head()"
      ],
      "metadata": {
        "id": "kALEmnzL3-IN"
      },
      "execution_count": null,
      "outputs": []
    },
    {
      "cell_type": "markdown",
      "source": [
        "Вспомним, что можем представить модель с фиксированными эффектами как модель с набором дамми-переменных. В данном случае нас будет интересовать фиксированные эффекты на пространственные единицы, а именно страны."
      ],
      "metadata": {
        "id": "Ri6-bcYa4M9l"
      }
    },
    {
      "cell_type": "code",
      "source": [
        "model1 = statf.ols(formula = 'pol_stab ~ con_cor + govt_consump_WDI + herfgov_DPI + C(country)', data = lab3).fit()\n",
        "print(model1.summary())"
      ],
      "metadata": {
        "id": "0t5t5PAO4uuk"
      },
      "execution_count": null,
      "outputs": []
    },
    {
      "cell_type": "markdown",
      "source": [
        "Ту же модель можно представить в более экономном варианте, используя внутригрупповое преобразование (центрирование как зависимой переменной, так и предикторов по подгруппам)."
      ],
      "metadata": {
        "id": "U_29fSAy5Epu"
      }
    },
    {
      "cell_type": "code",
      "source": [
        "lab3_index = lab3.set_index(['country', 'year'])\n",
        "model1_1 = PanelOLS.from_formula('pol_stab ~ con_cor + govt_consump_WDI + herfgov_DPI + EntityEffects', data = lab3_index).fit()\n",
        "print(model1_1)"
      ],
      "metadata": {
        "id": "pYlOEvNr5AjM"
      },
      "execution_count": null,
      "outputs": []
    },
    {
      "cell_type": "markdown",
      "source": [
        "Проверим, хорошо ли предсказывает модель значения политической стабильности. При этом так как мы работаем с панельным массивом, нас будут интересовать предсказание с разбиением на подгруппы - страны. Оценим корреляцию зависимой переменной (наблюдаемого отклика) и предсказанного значения отклика по подгруппам. Если корреляция низкая (по модулю), то это говорит о том, что мы плохо объясняем моделью то, что происходит в данной группе (стране). Переоценим модель на подвыборке тех стран, для которых корреляция по модулю более либо равна 0.3 и посмотрим, устойчивы ли наши результаты.  "
      ],
      "metadata": {
        "id": "hQ_u-GCA9Hcq"
      }
    },
    {
      "cell_type": "code",
      "source": [
        "lab3['ypredicted'] = model1.predict()\n",
        "\n",
        "groups_data = pd.DataFrame(lab3.groupby('country')['ypredicted'].corr(lab3['pol_stab']))\n",
        "groups_data['group'] = groups_data['ypredicted'].apply(lambda x: 1 if abs(x) >= 0.1 else 0)\n",
        "data_merged = pd.merge(lab3, groups_data, on = 'country')\n",
        "model_high = statf.ols(formula = 'pol_stab ~ con_cor + govt_consump_WDI + herfgov_DPI + C(country)', data = data_merged[data_merged['group']==1]).fit()\n",
        "print(model_high.summary())"
      ],
      "metadata": {
        "id": "0d4QF4Ib9HBp"
      },
      "execution_count": null,
      "outputs": []
    },
    {
      "cell_type": "markdown",
      "source": [
        "Сравним полученные оценки с результатами оценивания модели со случайными эффектами.\n",
        "* Вспомните допущения данной модели и оцените критически\n",
        "* Какой метод оценивания используется в данном случае?"
      ],
      "metadata": {
        "id": "aIYZ5qa4CVxn"
      }
    },
    {
      "cell_type": "code",
      "source": [
        "model2 = RandomEffects.from_formula('pol_stab ~ 1 + con_cor + govt_consump_WDI + herfgov_DPI', data = lab3_index).fit()\n",
        "print(model2)"
      ],
      "metadata": {
        "id": "BC730OjEEPBR"
      },
      "execution_count": null,
      "outputs": []
    },
    {
      "cell_type": "markdown",
      "source": [
        "Для начала приведите содержательные основания для выбора FE- или RE-модели: какой модели Вы отдадите предпочтение в данном случае?\n",
        "\n",
        "Но мы также обсуждали с Вами тест Хаусмана и его ограничения для сравнения FE- и RE-модели.\n",
        "Зададим в явном виде статистику для проверки гипотезы  и ее распределение: $$S = (\\hat{b}_{fe} - \\hat{b}_{re})^T(Cov({\\hat{b}_{fe}}) - Cov(\\hat{b}_{re}))^{-1}(\\hat{b}_{fe} - \\hat{b}_{re}) \\sim \\chi^2_{k}$$, где k - количество предикторов. Проинтерпретируйте результаты тестирования. Как Вы думаете, с чем связаны полученные результаты?"
      ],
      "metadata": {
        "id": "4iNJdAfdEwiv"
      }
    },
    {
      "cell_type": "code",
      "source": [
        "X_varying = ['con_cor', 'govt_consump_WDI', 'herfgov_DPI']\n",
        "\n",
        "fe_coef = model1_1.params\n",
        "re_coef = model2.params.loc[X_varying]\n",
        "\n",
        "fe_cov = model1_1.cov\n",
        "re_cov = model2.cov[X_varying].loc[X_varying]\n",
        "\n",
        "hausman = (fe_coef - re_coef).dot(la.inv(fe_cov - re_cov).dot(fe_coef - re_coef))\n",
        "df = fe_coef.size\n",
        "pvalue = stats.chi2.sf(hausman, df)\n",
        "print('Chi-squared:', hausman, '\\n' 'P-value:', pvalue, '\\n' 'Degrees of freedom:', df)"
      ],
      "metadata": {
        "id": "1rr9Wfp4FF2K"
      },
      "execution_count": null,
      "outputs": []
    },
    {
      "cell_type": "code",
      "source": [],
      "metadata": {
        "id": "cr32vkM5HcYO"
      },
      "execution_count": null,
      "outputs": []
    },
    {
      "cell_type": "markdown",
      "source": [
        "В следующей модели давайте учтем фиксированные эффекты на временные периоды.\n",
        "* Проинтерпретируйте хотя бы один коэффициент при временном периоде\n",
        "* Нужны ли в данном случае FE на временные периоды?\n",
        "* Что теперь отражают оценки коэффициентов при предикторах? Какую вариацию?"
      ],
      "metadata": {
        "id": "SPzHIFfJHrlG"
      }
    },
    {
      "cell_type": "code",
      "source": [
        "model3 = statf.ols(formula = 'pol_stab ~ con_cor + govt_consump_WDI + herfgov_DPI + C(year)', data = lab3).fit()\n",
        "print(model3.summary())"
      ],
      "metadata": {
        "id": "rh52qaBeH7BI"
      },
      "execution_count": null,
      "outputs": []
    },
    {
      "cell_type": "markdown",
      "source": [
        "Та же модель, но с внутригрупповым преобразованием:"
      ],
      "metadata": {
        "id": "swl8AKLDIGHw"
      }
    },
    {
      "cell_type": "code",
      "source": [
        "model3_1 = PanelOLS.from_formula('pol_stab ~ con_cor + govt_consump_WDI + herfgov_DPI + TimeEffects', lab3_index).fit()\n",
        "print(model3_1)"
      ],
      "metadata": {
        "id": "VCeupae0IKgj"
      },
      "execution_count": null,
      "outputs": []
    },
    {
      "cell_type": "markdown",
      "source": [
        "Оценим twoways модель: учтем и FE на год, и FE на страны. В чем заключаются ограничения этой модели?"
      ],
      "metadata": {
        "id": "487dynNlJ-eY"
      }
    },
    {
      "cell_type": "code",
      "source": [
        "model4 = statf.ols('pol_stab ~ con_cor + govt_consump_WDI + herfgov_DPI + C(country) + C(year)', lab3).fit()\n",
        "print(model4.summary())"
      ],
      "metadata": {
        "id": "swb9rzG-J7z1"
      },
      "execution_count": null,
      "outputs": []
    },
    {
      "cell_type": "markdown",
      "source": [
        "Сравним model1 и model4. Эти модели являются вложенными, так как можно получить спецификацию второй модели из первой посредством только добавления параметров (коэффициентов при дамми на годы). Какую модель предпочтительно выбрать?"
      ],
      "metadata": {
        "id": "QTxkmG1HKwWr"
      }
    },
    {
      "cell_type": "code",
      "source": [
        "F = ((model4.rsquared - model1.rsquared)/(model4.params.size - model1.params.size))/((1-model4.rsquared)/(model4.nobs - model4.params.size))\n",
        "F\n",
        "pvalue = stats.f.sf(F, model4.params.size - model1.params.size, model4.nobs - model4.params.size)\n",
        "print('F-statistic:', F, '\\n' 'P-value:', pvalue, '\\n' 'df1:', model4.params.size - model1.params.size, '\\n' 'df2:', model4.nobs - model4.params.size)"
      ],
      "metadata": {
        "id": "CTE6dM-dLKmj"
      },
      "execution_count": null,
      "outputs": []
    },
    {
      "cell_type": "markdown",
      "source": [
        "Проверим, одинаковая ли взаимосвязь коррупции и политической стабильности в разных группах стран. Оценим varying-slope model. Проинтерпретируйте полученные результаты.  \n",
        "\n",
        "Примечание: до этого мы рассматривали страну в качестве пространственной единицы. Однако в таком случае есть опасность получить чрезмерно фрагментарные результаты, что будет сопровождаться безумным количеством параметров и сложностями в интерпретации. Вместо этого оценим модель с разными наклонами на группы стран."
      ],
      "metadata": {
        "id": "aqA2wNntL2Lb"
      }
    },
    {
      "cell_type": "code",
      "source": [
        "model5 = statf.ols('pol_stab ~ con_cor*C(countrygroup) + govt_consump_WDI + herfgov_DPI', lab3).fit()\n",
        "print(model5.summary())"
      ],
      "metadata": {
        "id": "g4_H_M8OMOqw"
      },
      "execution_count": null,
      "outputs": []
    }
  ]
}