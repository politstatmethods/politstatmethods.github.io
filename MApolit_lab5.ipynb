{
  "nbformat": 4,
  "nbformat_minor": 0,
  "metadata": {
    "colab": {
      "provenance": []
    },
    "kernelspec": {
      "name": "python3",
      "display_name": "Python 3"
    },
    "language_info": {
      "name": "python"
    }
  },
  "cells": [
    {
      "cell_type": "markdown",
      "source": [
        "# <font color='black'> Методы анализа неоднородных данных и паттерн-анализ. Практическое занятие 4 </font>\n",
        "## <font color='black'> Модель Differences-in-Differences (DiD) </font>\n",
        "\n",
        "Давайте рассмотрим модель DiD на примере исследований Eissa, N. и Liebman, J.: авторы изучали эффект EITC (налогового вычета на трудовой доход) на занятость. Мы рассмотрим, как расширение EITC для женщин с детьми в 1993 г. повлияло на занятость женщин.\n",
        "\n",
        "Краткое описание данных:\n",
        "\n",
        "* year - год налогообложения\n",
        "* work - дамми-переменная, показывающая факт занятости (1 - женщина, имеющая работу, 0 - в противном случае)\n",
        "* age - возраст женщины\n",
        "* ed - образование женщины (в количестве лет образования)\n",
        "* children - количество детей у женщины\n",
        "* nonwhite - дамми-переменная для расовой принадлежности\n",
        "* unearn - non-labor income (разность семейного дохода и индивидуального дохода женщины)"
      ],
      "metadata": {
        "id": "B70ExjzKU67Z"
      }
    },
    {
      "cell_type": "code",
      "execution_count": null,
      "metadata": {
        "id": "Szvj8OueU22k"
      },
      "outputs": [],
      "source": [
        "import pandas as pd\n",
        "import statsmodels.formula.api as statf\n",
        "import matplotlib.pyplot as mpl\n",
        "%matplotlib inline"
      ]
    },
    {
      "cell_type": "code",
      "source": [
        "lab5 = pd.read_stata(\"DiDdata.dta\")\n",
        "lab5 = lab5.dropna()\n",
        "lab5.head()"
      ],
      "metadata": {
        "id": "W4K3R9kgWNpx"
      },
      "execution_count": null,
      "outputs": []
    },
    {
      "cell_type": "markdown",
      "source": [
        "Для начала создадим дамми-переменные для обозначения группы воздействия и периода."
      ],
      "metadata": {
        "id": "nJPE-k_WnLZI"
      }
    },
    {
      "cell_type": "code",
      "source": [
        "lab5['treated'] = lab5['children'].apply(lambda x: 1 if x > 0 else 0)\n",
        "lab5['after'] = lab5['year'].apply(lambda x: 1 if x > 1993 else 0)"
      ],
      "metadata": {
        "id": "ud54eNSfWTAS"
      },
      "execution_count": null,
      "outputs": []
    },
    {
      "cell_type": "markdown",
      "source": [
        "Проиллюстрируем на графике, как с течением времени изменялись средние значения занятости женщин в группе воздействия и контрольной группе. Этот график позволит понять, соблюдается ли допущение о параллельности трендов."
      ],
      "metadata": {
        "id": "HlKflPRSnY2p"
      }
    },
    {
      "cell_type": "code",
      "source": [
        "fig, axes = mpl.subplots()\n",
        "lab5.groupby(['year', 'treated']).mean()['work'].unstack().plot(ax = axes)\n",
        "axes.set_ylabel(\"Labor Participation\")\n",
        "mpl.axvline(x=1994, color ='r', linestyle = '--')"
      ],
      "metadata": {
        "id": "K9X5_ucCWo2t"
      },
      "execution_count": null,
      "outputs": []
    },
    {
      "cell_type": "markdown",
      "source": [
        "Рассчитаем DiD-Оценку практически вручную. Для этого нам нужно  \n",
        "\n",
        "1) посчитать разницу между средними значениями занятости в группе воздействия в период после и период до воздействия\n",
        "\n",
        "2) посчитать соответствующую разницу для контрольной группы\n",
        "\n",
        "3) и наконец-то, посчитать DiD (разность упомянутых выше разностей)"
      ],
      "metadata": {
        "id": "hlYQEpBUnskA"
      }
    },
    {
      "cell_type": "code",
      "source": [
        "lab5.groupby(['after', 'treated']).mean()['work']\n",
        "\n",
        "dif_treated = lab5.groupby(['after', 'treated']).mean()['work'].iloc[3] - lab5.groupby(['after', 'treated']).mean()['work'].iloc[1]\n",
        "dif_nontreated = lab5.groupby(['after', 'treated']).mean()['work'].iloc[2] - lab5.groupby(['after', 'treated']).mean()['work'].iloc[0]\n",
        "\n",
        "did = dif_treated - dif_nontreated\n",
        "did"
      ],
      "metadata": {
        "id": "8L4wq0lJZhgJ"
      },
      "execution_count": null,
      "outputs": []
    },
    {
      "cell_type": "markdown",
      "source": [
        "Теперь оценим соответствующую модель DiD. Видим, что оценка коэффициент при переменной взаимодействия совпадает с оценкой DiD, которую мы получили выше."
      ],
      "metadata": {
        "id": "-CfqPilIoQsG"
      }
    },
    {
      "cell_type": "code",
      "source": [
        "did_1 = statf.ols('work ~ treated*after', data=lab5).fit()\n",
        "print(did_1.summary())"
      ],
      "metadata": {
        "id": "05G-GtxHYS9y"
      },
      "execution_count": null,
      "outputs": []
    },
    {
      "cell_type": "markdown",
      "source": [
        "Добавим контрольные переменные и посмотрим, изменился ли значимым образом эффект расширения EITC."
      ],
      "metadata": {
        "id": "YeNh9YY_oipH"
      }
    },
    {
      "cell_type": "code",
      "source": [
        "did_2 = statf.ols('work ~ treated*after + age + ed + nonwhite + unearn', data=lab5).fit()\n",
        "print(did_2.summary())"
      ],
      "metadata": {
        "id": "jCZrXxYdoqGH"
      },
      "execution_count": null,
      "outputs": []
    }
  ]
}