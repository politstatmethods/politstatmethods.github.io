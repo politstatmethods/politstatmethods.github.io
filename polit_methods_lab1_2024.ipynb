{
  "cells": [
    {
      "cell_type": "markdown",
      "metadata": {
        "id": "I_SixRYeKDjb"
      },
      "source": [
        "# <font color='black'>Методы анализа неоднородных данных и паттерн-анализ. Практическое занятие 1 </font>\n",
        "## <font color='black'>Линейная регрессия: основы </font>\n",
        "В рамках данного практического занятия мы обратимся к данным из статьи [Kalenborn C., Lessman C., 2013](https://yadi.sk/i/nlEQUoWKiqY0UA). Одна из частей анализа в данной статье выполнена на основе cross-section data (использованы усредненные данные за 2005 - 2010 гг.). Возьмем такой массив, так как мы пока не знакомились с моделями для анализа панельных данных.\n",
        "\n",
        "Стоит отметить, что авторы изучают взаимосвязь уровня коррупции (является откликом в регрессионной модели) и демократии, предполагая, что ее характер зависит от значений показателя свободы прессы. Мы протестируем данную гипотезу на практическом занятии 2, когда познакомимся с регрессионными моделями с переменными взаимодействия. Кратко о данных:\n",
        "* cpi - уровень коррупции: Corruption Perception Index. Приведен к непрерывной шкале от 0 до 10, где 10 означает наиболее высокий уровень коррупции.\n",
        "* dem - индекс демократии: Vanhanen’s democratization index. Непрерывная шкала от 0 до 100, где 100 означает максимальное значение уровня демократии.\n",
        "* fp - свобода прессы: Freedom House. Приведен к непрерывной шкале от 0 до 100, где 100 - наиболее высокое значение свободы прессы.\n",
        "* loggdppc - натуральный логарифм ВВП на душу населения: World Bank.\n",
        "* stab - уровень политической стабильности. Индекс построен на основе показателей \"Political Stability\" и \"Absence of Violence/Terrorism\" из the Worldwide Governance Indicators. Непрерывная шкала от -2.5 до 2.5, где 2.5 соответствует наиболее высокому уровню политической стабильности.\n",
        "* britcol - дамми-переменная, где 1 - бывшая британская колония."
      ]
    },
    {
      "cell_type": "code",
      "execution_count": null,
      "metadata": {
        "id": "7Su83yqjKDjg"
      },
      "outputs": [],
      "source": [
        "import pandas as pd\n",
        "import statsmodels.formula.api as smf\n",
        "from scipy import stats\n",
        "import seaborn as sns\n",
        "import numpy as np\n",
        "import matplotlib.pyplot as mpl"
      ]
    },
    {
      "cell_type": "markdown",
      "metadata": {
        "id": "drlgzo1LKDji"
      },
      "source": [
        "Откроем массив данных для репликации результатов исследования: lab1.dta"
      ]
    },
    {
      "cell_type": "code",
      "execution_count": null,
      "metadata": {
        "id": "a-6v4MieKDji"
      },
      "outputs": [],
      "source": [
        "lab1 = pd.read_stata('lab1.dta')"
      ]
    },
    {
      "cell_type": "markdown",
      "metadata": {
        "id": "FPZ9soNsKDji"
      },
      "source": [
        "Познакомимся с тем, как устроен массив данных."
      ]
    },
    {
      "cell_type": "code",
      "execution_count": null,
      "metadata": {
        "id": "E_SWvzNsKDjj"
      },
      "outputs": [],
      "source": [
        "lab1.head(10)"
      ]
    },
    {
      "cell_type": "markdown",
      "metadata": {
        "id": "3TBLQVSZKDjj"
      },
      "source": [
        "Ниже представим описательные статистики."
      ]
    },
    {
      "cell_type": "code",
      "execution_count": null,
      "metadata": {
        "id": "FLoRt7GMKDjj"
      },
      "outputs": [],
      "source": [
        "lab1.describe()"
      ]
    },
    {
      "cell_type": "markdown",
      "metadata": {
        "id": "LOoIHOENKDjk"
      },
      "source": [
        "С одной стороны, можно, конечно, по отдельности строить гистограмму для каждой интересующей переменной, как ниже"
      ]
    },
    {
      "cell_type": "code",
      "execution_count": null,
      "metadata": {
        "id": "cwbLyTi5KDjk"
      },
      "outputs": [],
      "source": [
        "mpl.hist(lab1[\"cpi\"], bins = 20, color = \"red\", edgecolor = \"white\")"
      ]
    },
    {
      "cell_type": "markdown",
      "metadata": {
        "id": "xBOVV-cXKDjl"
      },
      "source": [
        "Или диаграмму рассеяния между переменными. К примеру, между зависимой переменной (cpi) и ключевым предиктором - уровнем демократии (dem). Что можно сказать про характер связи между коррупцией и демократией?"
      ]
    },
    {
      "cell_type": "code",
      "execution_count": null,
      "metadata": {
        "id": "1T4Xo0EjKDjl"
      },
      "outputs": [],
      "source": [
        "sns.scatterplot(data = lab1, x = \"dem\", y = \"cpi\")"
      ]
    },
    {
      "cell_type": "markdown",
      "metadata": {
        "id": "jaN_oOHjKDjl"
      },
      "source": [
        "Однако это не очень продуктивно. Поэтому лучше сразу построим общий pairplot, демонстрирующий диаграммы рассеяния между переменными попарно (в том числе, учитывая контрольные переменные) и распределения отдельных переменных. Что можно заметить по pairplot? Какие Ваши наблюдения?"
      ]
    },
    {
      "cell_type": "code",
      "execution_count": null,
      "metadata": {
        "id": "H3j-GzghKDjl"
      },
      "outputs": [],
      "source": [
        "sns.pairplot(lab1)"
      ]
    },
    {
      "cell_type": "markdown",
      "metadata": {
        "id": "CQz0Nvp1KDjm"
      },
      "source": [
        "Дополнительно представим ниже корреляционную матрицу."
      ]
    },
    {
      "cell_type": "code",
      "execution_count": null,
      "metadata": {
        "id": "su95s10ZKDjm"
      },
      "outputs": [],
      "source": [
        "lab1.corr().round(3)"
      ]
    },
    {
      "cell_type": "markdown",
      "metadata": {
        "id": "3-mwXnKiKDjm"
      },
      "source": [
        "Оценим первую регрессионную модель (m1). Это будет парная линейная регрессия: пока учитываем только ключевой предиктор - уровень демократии, контрольные переменные, предложенные авторами статьи, включим позже.\n",
        "\n",
        "Проинтерпретируйте полученные результаты."
      ]
    },
    {
      "cell_type": "code",
      "execution_count": null,
      "metadata": {
        "id": "7WyUn88QKDjm"
      },
      "outputs": [],
      "source": [
        "m1 = smf.ols(formula = \"cpi ~ dem\", data = lab1).fit()\n",
        "print(m1.summary())"
      ]
    },
    {
      "cell_type": "markdown",
      "metadata": {
        "id": "l_gwFuQkKDjn"
      },
      "source": [
        "Добавим в модель контрольные переменные.\n",
        "\n",
        "* Критически отнеситесь к выбору контролей авторами. Какие слабые стороны этого выбора можно отметить?\n",
        "* Сравните результаты m2, полученные по взаимосвязи демократии и коррупции, с соответствующими результатами в m1. Прокомментируйте различия"
      ]
    },
    {
      "cell_type": "code",
      "execution_count": null,
      "metadata": {
        "scrolled": false,
        "id": "4qHqidcGKDjn"
      },
      "outputs": [],
      "source": [
        "m2 = smf.ols(formula = \"cpi ~ dem + fp + stab + loggdppc + britcol\", data = lab1).fit()\n",
        "print(m2.summary())"
      ]
    },
    {
      "cell_type": "markdown",
      "metadata": {
        "id": "bJzJH_SHKDjo"
      },
      "source": [
        "Отдельно можно вывести вектор оценок параметров модели. Если хотите вывести оценку определенного параметра, то в квадратных скобках укажите его номер, не забываем, что в Python отсчет идет с 0, поэтому константе соответствует 0, а не 1."
      ]
    },
    {
      "cell_type": "code",
      "execution_count": null,
      "metadata": {
        "id": "QRo6rtwXKDjo"
      },
      "outputs": [],
      "source": [
        "m2.params"
      ]
    },
    {
      "cell_type": "markdown",
      "metadata": {
        "id": "1M3BFrvzKDjo"
      },
      "source": [
        "Также можно вывести ковариационную матрицу оценок параметров. Какая информация в ней содержится? По главной диагонали - дисперсии оценок параметров, остальные элементы - ковариации между оценками коэффициентов (совместная изменчивость). Если взять квадратный корень элементов по главной диагонали, то получим стандартные ошибки оценок коэффициентов, которые нам пригодятся при проверке гипотезы о незначимости коэффициентов в регрессионной модели.    "
      ]
    },
    {
      "cell_type": "code",
      "execution_count": null,
      "metadata": {
        "id": "HLKF6z8EKDjp"
      },
      "outputs": [],
      "source": [
        "m2.cov_params()"
      ]
    },
    {
      "cell_type": "markdown",
      "metadata": {
        "id": "skp1YadSKDjp"
      },
      "source": [
        "Представим полученный объект как матрицу в Python, чтобы можно было обратиться к определенным элементам. И давайте посмотрим, как рассчитать p-value в случае проверки гипотезы о незначимости коэффициента при предикторе dem против двусторонней альтернативы.\n",
        "\n",
        "Статистика критерия рассчитывается следующим образом: $\\dfrac{\\hat{b}}{se}$. При верной нулевой гипотезе статистика имеет распределение Стьюдента с количеством степеней свободы равным $n-k-1$, где $k$ - количество предикторов в модели, не забываем про еще один параметр - это константа.\n",
        "\n",
        "Сделайте вывод на основе полученного p-value."
      ]
    },
    {
      "cell_type": "code",
      "execution_count": null,
      "metadata": {
        "id": "_ysxZk9cKDjp"
      },
      "outputs": [],
      "source": [
        "Cov_m2 = np.asmatrix(m2.cov_params())\n",
        "(1-stats.t.cdf(abs(m2.params[1]/Cov_m2[1,1]**0.5), m2.nobs - m2.df_model - 1))*2"
      ]
    },
    {
      "cell_type": "markdown",
      "metadata": {
        "id": "UWd_-IYSKDjp"
      },
      "source": [
        "Для того же коэффициента построим 95%-ый доверительный интервал. В качестве отправной точки используем оценку соответствующего коэффициента $\\hat{\\beta}$ при dem. Также для того, чтобы задать границы, нам понадобится стандартная ошибка оценки коэффициента и критическая точка (квантиль по распределению Стьюдента уровня 0.975, $df = n - k - 1$).\n",
        "\n",
        "Проинтерпретируйте полученный доверительный интервал."
      ]
    },
    {
      "cell_type": "code",
      "execution_count": null,
      "metadata": {
        "id": "tCUcoyBXKDjp"
      },
      "outputs": [],
      "source": [
        "left_boundary = m2.params[1] - Cov_m2[1,1]**0.5*stats.t.ppf(0.975, m2.nobs - m2.df_model - 1)\n",
        "right_boundary = m2.params[1] + Cov_m2[1,1]**0.5*stats.t.ppf(0.975, m2.nobs - m2.df_model - 1)\n",
        "\n",
        "print(left_boundary.round(4), right_boundary.round(4))"
      ]
    },
    {
      "cell_type": "markdown",
      "metadata": {
        "id": "p0jga9_9KDjq"
      },
      "source": [
        "Проверим модель на мультиколлинеарность. Для этого рассчитаем VIF - variance inflation factor. Название этого показателя говорит само за себя: это показатель того, во сколько раз \"вздувается\" дисперсия оценок коэффициентов в условиях мультиколлинерности. Значения VIF 10 и выше принято считать высокими.\n",
        "\n",
        "Для того, чтобы при построении вспомогательных регрессий учитывалась и константа, добавим в матрицу X столбец из единиц, используя add_constant(X).   "
      ]
    },
    {
      "cell_type": "code",
      "execution_count": null,
      "metadata": {
        "id": "ou4oo7I1KDjq"
      },
      "outputs": [],
      "source": [
        "from statsmodels.stats.outliers_influence import variance_inflation_factor\n",
        "from statsmodels.tools.tools import add_constant\n",
        "\n",
        "X = lab1.dropna()[[\"dem\", \"fp\", \"stab\", \"loggdppc\", \"britcol\"]]\n",
        "X = add_constant(X)\n",
        "\n",
        "vif_data = pd.DataFrame()\n",
        "vif_data[\"parameter\"] = X.columns\n",
        "\n",
        "vif_data[\"VIF\"] = [variance_inflation_factor(X.values, i)\n",
        "                          for i in range(len(X.columns))]\n",
        "\n",
        "print(vif_data)"
      ]
    },
    {
      "cell_type": "markdown",
      "metadata": {
        "id": "AR4zwc5WKDjq"
      },
      "source": [
        "Проверим, можно ли говорить про гомоскедастичность (здравый смысл подсказывает, что надеяться не стоит), но тем не менее, реализуем определенные диагностики. Для начала построим график, показывающий, как связаны остатки в квадрате и предсказанные значения по модели ($\\hat{y}$)"
      ]
    },
    {
      "cell_type": "code",
      "execution_count": null,
      "metadata": {
        "scrolled": true,
        "id": "bDHiLspaKDjq"
      },
      "outputs": [],
      "source": [
        "fitted = m2.predict()\n",
        "residuals_sq = m2.resid**2\n",
        "fig, ax = mpl.subplots()\n",
        "sns.scatterplot(x = fitted, y = residuals_sq)\n",
        "ax.set_xlabel( \"Fitted values\")\n",
        "ax.set_ylabel( \"Squared residuals\")"
      ]
    },
    {
      "cell_type": "markdown",
      "metadata": {
        "id": "Ri-J2OsXKDjq"
      },
      "source": [
        "Есть и формальные тесты для проверки гипотезы о гомоскедастичности. К примеру, тест Бреуша-Пагана. Давайте его реализуем и проинтепретируем результаты на основе p-value."
      ]
    },
    {
      "cell_type": "code",
      "execution_count": null,
      "metadata": {
        "id": "JEY75f7HKDjq"
      },
      "outputs": [],
      "source": [
        "from statsmodels.stats.diagnostic import het_breuschpagan\n",
        "bp_test = het_breuschpagan(m2.resid, X)\n",
        "print(bp_test[1])"
      ]
    },
    {
      "cell_type": "markdown",
      "metadata": {
        "id": "_lDTSEVRKDjr"
      },
      "source": [
        "Переоценим модель с робастными стандартными ошибками (HC3)."
      ]
    },
    {
      "cell_type": "code",
      "execution_count": null,
      "metadata": {
        "id": "ZXBlWQwbKDjr"
      },
      "outputs": [],
      "source": [
        "m3 = smf.ols(formula = \"cpi ~ dem + fp + stab + loggdppc + britcol\", data = lab1).fit(cov_type = \"HC3\")\n",
        "print(m3.summary())"
      ]
    },
    {
      "cell_type": "markdown",
      "metadata": {
        "id": "BH_A6APGKDjr"
      },
      "source": [
        "В следующий раз мы продолжим работать с этими данными, а именно, рассмотрим модель с переменной взаимодействия для проверки гипотезы авторов о совместном эффекте свободы прессы и демократии на уровень коррупции."
      ]
    }
  ],
  "metadata": {
    "kernelspec": {
      "display_name": "Python 3 (ipykernel)",
      "language": "python",
      "name": "python3"
    },
    "language_info": {
      "codemirror_mode": {
        "name": "ipython",
        "version": 3
      },
      "file_extension": ".py",
      "mimetype": "text/x-python",
      "name": "python",
      "nbconvert_exporter": "python",
      "pygments_lexer": "ipython3",
      "version": "3.9.12"
    },
    "colab": {
      "provenance": []
    }
  },
  "nbformat": 4,
  "nbformat_minor": 0
}